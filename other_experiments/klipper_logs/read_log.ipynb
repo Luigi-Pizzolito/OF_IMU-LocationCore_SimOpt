{
 "cells": [
  {
   "cell_type": "markdown",
   "metadata": {},
   "source": [
    "https://www.klipper3d.org/Debugging.html#motion-analysis-and-data-logging\n",
    "1. Collect data:\n",
    "```bash\n",
    "~/klipper/scripts/motan/data_logger.py ~/printer_data/comms/klippy.sock mylog\n",
    "```\n",
    "2. Transfer logs over SFTP\n",
    "3. Graph collected data:\n",
    "```bash\n",
    "python motan_graph.py -g '[[\"trapq(toolhead,x)\"],[\"trapq(toolhead,x_velocity)\"],[\"trapq(toolhead,x_accel)\"]]' -s 15 -d 10 mylog\n",
    "```"
   ]
  }
 ],
 "metadata": {
  "kernelspec": {
   "display_name": ".venv",
   "language": "python",
   "name": "python3"
  },
  "language_info": {
   "codemirror_mode": {
    "name": "ipython",
    "version": 3
   },
   "file_extension": ".py",
   "mimetype": "text/x-python",
   "name": "python",
   "nbconvert_exporter": "python",
   "pygments_lexer": "ipython3",
   "version": "3.12.9"
  }
 },
 "nbformat": 4,
 "nbformat_minor": 2
}
